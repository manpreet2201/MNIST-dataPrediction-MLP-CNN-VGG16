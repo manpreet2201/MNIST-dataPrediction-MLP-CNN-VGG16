{
  "nbformat": 4,
  "nbformat_minor": 0,
  "metadata": {
    "colab": {
      "name": "ML-A4.ipynb",
      "provenance": [],
      "collapsed_sections": []
    },
    "kernelspec": {
      "name": "python3",
      "display_name": "Python 3"
    },
    "accelerator": "GPU"
  },
  "cells": [
    {
      "cell_type": "code",
      "metadata": {
        "id": "d6Yf3EW59aZ_",
        "outputId": "a7e988e3-0528-4b1e-bb0d-806710d9f617",
        "colab": {
          "base_uri": "https://localhost:8080/",
          "height": 34
        }
      },
      "source": [
        "from google.colab import drive\n",
        "drive.mount('/content/drive')"
      ],
      "execution_count": null,
      "outputs": [
        {
          "output_type": "stream",
          "text": [
            "Mounted at /content/drive\n"
          ],
          "name": "stdout"
        }
      ]
    },
    {
      "cell_type": "markdown",
      "metadata": {
        "id": "k3jcPpaCKEPY"
      },
      "source": [
        "Predicting MNIST dataset using MLP Model "
      ]
    },
    {
      "cell_type": "code",
      "metadata": {
        "id": "ibwtc1fkVlJs",
        "outputId": "281ef0ff-8df9-4982-ec4c-efb9c8a53978",
        "colab": {
          "base_uri": "https://localhost:8080/",
          "height": 85
        }
      },
      "source": [
        "import numpy as np\n",
        "import matplotlib.pyplot as plt\n",
        "from keras import models, layers, optimizers, datasets, utils, losses\n",
        "\n",
        "(x_train, y_train), (x_test, y_test) = datasets.mnist.load_data()\n",
        "\n",
        "x_train = x_train.reshape(60000, 784)/255\n",
        "x_test = x_test.reshape(10000, 784)/255\n",
        "x_train = x_train[:1024,:]\n",
        "x_test = x_test[:501,:]\n",
        "y_train = utils.to_categorical(y_train, 10)\n",
        "y_test = utils.to_categorical(y_test, 10)\n",
        "y_train = y_train[:1024,:]\n",
        "y_test = y_test[:501,:]\n",
        "print(y_train.shape)\n",
        "print(x_train.shape)\n",
        "# print(x_orig[:1,:]/255)"
      ],
      "execution_count": null,
      "outputs": [
        {
          "output_type": "stream",
          "text": [
            "Downloading data from https://storage.googleapis.com/tensorflow/tf-keras-datasets/mnist.npz\n",
            "11493376/11490434 [==============================] - 0s 0us/step\n",
            "(1024, 10)\n",
            "(1024, 784)\n"
          ],
          "name": "stdout"
        }
      ]
    },
    {
      "cell_type": "code",
      "metadata": {
        "id": "DbKSZpE3WPdR",
        "outputId": "87ed549f-bbc0-4168-bdee-dc4dc7ccea7f",
        "colab": {
          "base_uri": "https://localhost:8080/",
          "height": 391
        }
      },
      "source": [
        "inputs = layers.Input(shape=(784,))\n",
        "x = layers.Dense(128, activation='relu')(inputs)\n",
        "x = layers.Dense(128, activation='relu')(x)\n",
        "x = layers.Dense(128, activation='relu')(x)\n",
        "x = layers.Dense(128, activation='relu')(x)\n",
        "x = layers.Dense(128, activation='relu')(x)\n",
        "\n",
        "outputs= layers.Dense(10, activation='softmax')(x)\n",
        "\n",
        "model = models.Model(inputs=inputs, outputs=outputs)\n",
        "\n",
        "model.compile(loss='categorical_crossentropy',\n",
        "              optimizer='Nadam', metrics=['accuracy'])\n",
        "\n",
        "history=model.fit(x_train, y_train,\n",
        "            batch_size=128,\n",
        "            epochs=10,\n",
        "            validation_data=(x_test, y_test))\n",
        "score = model.evaluate(x_test, y_test)\n",
        "print('Test loss:', score[0],'Test accuracy:', score[1])"
      ],
      "execution_count": null,
      "outputs": [
        {
          "output_type": "stream",
          "text": [
            "Epoch 1/10\n",
            "8/8 [==============================] - 0s 26ms/step - loss: 2.1989 - accuracy: 0.2627 - val_loss: 1.9959 - val_accuracy: 0.4850\n",
            "Epoch 2/10\n",
            "8/8 [==============================] - 0s 7ms/step - loss: 1.5103 - accuracy: 0.6172 - val_loss: 1.2765 - val_accuracy: 0.5828\n",
            "Epoch 3/10\n",
            "8/8 [==============================] - 0s 6ms/step - loss: 0.8813 - accuracy: 0.7451 - val_loss: 0.9575 - val_accuracy: 0.6806\n",
            "Epoch 4/10\n",
            "8/8 [==============================] - 0s 7ms/step - loss: 0.5110 - accuracy: 0.8477 - val_loss: 0.7716 - val_accuracy: 0.7325\n",
            "Epoch 5/10\n",
            "8/8 [==============================] - 0s 7ms/step - loss: 0.3564 - accuracy: 0.9043 - val_loss: 0.5529 - val_accuracy: 0.8303\n",
            "Epoch 6/10\n",
            "8/8 [==============================] - 0s 6ms/step - loss: 0.2522 - accuracy: 0.9248 - val_loss: 0.6129 - val_accuracy: 0.7884\n",
            "Epoch 7/10\n",
            "8/8 [==============================] - 0s 7ms/step - loss: 0.2049 - accuracy: 0.9443 - val_loss: 0.4825 - val_accuracy: 0.8363\n",
            "Epoch 8/10\n",
            "8/8 [==============================] - 0s 7ms/step - loss: 0.1575 - accuracy: 0.9561 - val_loss: 0.6586 - val_accuracy: 0.8064\n",
            "Epoch 9/10\n",
            "8/8 [==============================] - 0s 6ms/step - loss: 0.2511 - accuracy: 0.9102 - val_loss: 0.4342 - val_accuracy: 0.8543\n",
            "Epoch 10/10\n",
            "8/8 [==============================] - 0s 6ms/step - loss: 0.0867 - accuracy: 0.9824 - val_loss: 0.4728 - val_accuracy: 0.8603\n",
            "16/16 [==============================] - 0s 2ms/step - loss: 0.4728 - accuracy: 0.8603\n",
            "Test loss: 0.4728187322616577 Test accuracy: 0.8602794408798218\n"
          ],
          "name": "stdout"
        }
      ]
    },
    {
      "cell_type": "code",
      "metadata": {
        "id": "-9P6AQylWeJ3",
        "outputId": "1bc0189e-3afd-4272-e90c-c6245bd794a5",
        "colab": {
          "base_uri": "https://localhost:8080/",
          "height": 34
        }
      },
      "source": [
        "print(history.history.keys())"
      ],
      "execution_count": null,
      "outputs": [
        {
          "output_type": "stream",
          "text": [
            "dict_keys(['loss', 'accuracy', 'val_loss', 'val_accuracy'])\n"
          ],
          "name": "stdout"
        }
      ]
    },
    {
      "cell_type": "code",
      "metadata": {
        "id": "oS_aoeWJWiTa",
        "outputId": "782b964f-7d2c-44fb-e39b-7b26591ab451",
        "colab": {
          "base_uri": "https://localhost:8080/",
          "height": 279
        }
      },
      "source": [
        "# Plotting learning curves\n",
        "plt.plot(history.history['accuracy'],'--')\n",
        "plt.plot(history.history['val_accuracy'])\n",
        "plt.ylabel('accuracy')\n",
        "plt.xlabel('epoch')\n",
        "plt.legend(['train', 'test'], loc='lower right')\n",
        "plt.show()"
      ],
      "execution_count": null,
      "outputs": [
        {
          "output_type": "display_data",
          "data": {
            "image/png": "[encoded data removed]",
            "text/plain": [
              "<Figure size 432x288 with 1 Axes>"
            ]
          },
          "metadata": {
            "tags": [],
            "needs_background": "light"
          }
        }
      ]
    },
    {
      "cell_type": "code",
      "metadata": {
        "id": "i2Let_EQWnOo",
        "outputId": "0e6f31af-b953-4414-b432-b3a68741e480",
        "colab": {
          "base_uri": "https://localhost:8080/",
          "height": 309
        }
      },
      "source": [
        "import numpy as np\n",
        "import matplotlib.pyplot as plt\n",
        "from keras import models, layers, optimizers, datasets, utils, losses\n",
        "(x_train, y_train), (x_test, y_test) = datasets.mnist.load_data()\n",
        "print(np.shape(x_train))\n",
        "plt.matshow(255-x_train[5,:,:], cmap='gray')"
      ],
      "execution_count": null,
      "outputs": [
        {
          "output_type": "stream",
          "text": [
            "(60000, 28, 28)\n"
          ],
          "name": "stdout"
        },
        {
          "output_type": "execute_result",
          "data": {
            "text/plain": [
              "<matplotlib.image.AxesImage at 0x7fcb0c2006a0>"
            ]
          },
          "metadata": {
            "tags": []
          },
          "execution_count": 7
        },
        {
          "output_type": "display_data",
          "data": {
            "image/png": "[encoded data removed]",
            "text/plain": [
              "<Figure size 288x288 with 1 Axes>"
            ]
          },
          "metadata": {
            "tags": [],
            "needs_background": "light"
          }
        }
      ]
    },
    {
      "cell_type": "markdown",
      "metadata": {
        "id": "AtaS6TQTKYJX"
      },
      "source": [
        "Predicting MNIST dataset using CNN Model"
      ]
    },
    {
      "cell_type": "code",
      "metadata": {
        "id": "L2aAiIytWr8z"
      },
      "source": [
        "x_train = x_train.reshape(60000, 28, 28, 1)/255\n",
        "x_train = x_train[:1024,:,:,:]\n",
        "x_test = x_test.reshape(10000, 28, 28, 1)/255\n",
        "x_test = x_test[:501,:,:,:]\n",
        "y_train = utils.to_categorical(y_train[:1024], 10)\n",
        "y_test = utils.to_categorical(y_test[:501], 10)\n"
      ],
      "execution_count": null,
      "outputs": []
    },
    {
      "cell_type": "code",
      "metadata": {
        "id": "XTCk9-sMWwux"
      },
      "source": [
        "inputs = layers.Input(shape=(28, 28, 1,))\n",
        "x=layers.Conv2D(32, kernel_size=(3, 3),activation='relu')(inputs)\n",
        "x=layers.Conv2D(64, kernel_size=(3, 3), activation='relu')(x)\n",
        "x=layers.MaxPooling2D(pool_size=(2, 2))(x)\n",
        "x=layers.Dropout(0.25)(x)\n",
        "x=layers.Flatten()(x)\n",
        "x=layers.Dense(128, activation='relu')(x)\n",
        "x=layers.Dropout(0.5)(x)\n",
        "outputs=layers.Dense(10, activation='softmax')(x)"
      ],
      "execution_count": null,
      "outputs": []
    },
    {
      "cell_type": "code",
      "metadata": {
        "id": "Ebs8k3NVW78h",
        "outputId": "51e646d5-50c1-4605-f7c3-552eeb38569b",
        "colab": {
          "base_uri": "https://localhost:8080/",
          "height": 459
        }
      },
      "source": [
        "model = models.Model(inputs=inputs, outputs=outputs)\n",
        "\n",
        "model.compile(loss=losses.categorical_crossentropy,\n",
        "              optimizer=optimizers.Adadelta(),\n",
        "              metrics=['accuracy'])\n",
        "\n",
        "history = model.fit(x_train, y_train,\n",
        "          batch_size=128,\n",
        "          epochs=12,\n",
        "          verbose=1,\n",
        "          validation_data=(x_test, y_test))\n",
        "score = model.evaluate(x_test, y_test, verbose=0)\n",
        "print('Test loss:', score[0])\n",
        "print('Test accuracy:', score[1])"
      ],
      "execution_count": null,
      "outputs": [
        {
          "output_type": "stream",
          "text": [
            "Epoch 1/12\n",
            "8/8 [==============================] - 0s 32ms/step - loss: 2.3056 - accuracy: 0.1152 - val_loss: 2.3045 - val_accuracy: 0.1018\n",
            "Epoch 2/12\n",
            "8/8 [==============================] - 0s 12ms/step - loss: 2.3037 - accuracy: 0.1084 - val_loss: 2.3040 - val_accuracy: 0.1058\n",
            "Epoch 3/12\n",
            "8/8 [==============================] - 0s 11ms/step - loss: 2.3046 - accuracy: 0.1133 - val_loss: 2.3034 - val_accuracy: 0.1078\n",
            "Epoch 4/12\n",
            "8/8 [==============================] - 0s 12ms/step - loss: 2.3062 - accuracy: 0.1123 - val_loss: 2.3029 - val_accuracy: 0.1098\n",
            "Epoch 5/12\n",
            "8/8 [==============================] - 0s 10ms/step - loss: 2.3054 - accuracy: 0.1182 - val_loss: 2.3023 - val_accuracy: 0.1118\n",
            "Epoch 6/12\n",
            "8/8 [==============================] - 0s 10ms/step - loss: 2.3049 - accuracy: 0.1055 - val_loss: 2.3017 - val_accuracy: 0.1118\n",
            "Epoch 7/12\n",
            "8/8 [==============================] - 0s 11ms/step - loss: 2.2997 - accuracy: 0.1299 - val_loss: 2.3012 - val_accuracy: 0.1138\n",
            "Epoch 8/12\n",
            "8/8 [==============================] - 0s 11ms/step - loss: 2.3029 - accuracy: 0.1104 - val_loss: 2.3006 - val_accuracy: 0.1158\n",
            "Epoch 9/12\n",
            "8/8 [==============================] - 0s 11ms/step - loss: 2.3005 - accuracy: 0.1250 - val_loss: 2.3001 - val_accuracy: 0.1158\n",
            "Epoch 10/12\n",
            "8/8 [==============================] - 0s 10ms/step - loss: 2.2989 - accuracy: 0.1172 - val_loss: 2.2995 - val_accuracy: 0.1198\n",
            "Epoch 11/12\n",
            "8/8 [==============================] - 0s 10ms/step - loss: 2.3023 - accuracy: 0.1230 - val_loss: 2.2989 - val_accuracy: 0.1198\n",
            "Epoch 12/12\n",
            "8/8 [==============================] - 0s 10ms/step - loss: 2.3003 - accuracy: 0.1152 - val_loss: 2.2984 - val_accuracy: 0.1238\n",
            "Test loss: 2.29837703704834\n",
            "Test accuracy: 0.12375249713659286\n"
          ],
          "name": "stdout"
        }
      ]
    },
    {
      "cell_type": "code",
      "metadata": {
        "id": "6Zbuc9zQ-PtW"
      },
      "source": [
        ""
      ],
      "execution_count": null,
      "outputs": []
    },
    {
      "cell_type": "code",
      "metadata": {
        "id": "Br0Iq5KuhHxr",
        "outputId": "e8b88576-19c0-403d-e241-cc0aa182fe9d",
        "colab": {
          "base_uri": "https://localhost:8080/",
          "height": 279
        }
      },
      "source": [
        "plt.plot(history.history['accuracy'],'--')\n",
        "plt.plot(history.history['val_accuracy'])\n",
        "plt.ylabel('accuracy')\n",
        "plt.xlabel('epoch')\n",
        "plt.legend(['train', 'test'], loc='lower right')\n",
        "plt.show()"
      ],
      "execution_count": null,
      "outputs": [
        {
          "output_type": "display_data",
          "data": {
            "image/png": "[encoded data removed]",
            "text/plain": [
              "<Figure size 432x288 with 1 Axes>"
            ]
          },
          "metadata": {
            "tags": [],
            "needs_background": "light"
          }
        }
      ]
    },
    {
      "cell_type": "code",
      "metadata": {
        "id": "bKkg3Zq9otze"
      },
      "source": [
        "import numpy as np\n",
        "import matplotlib.pyplot as plt\n",
        "from keras import models, layers, optimizers, datasets, utils, losses\n",
        "\n",
        "(x_train, y_train), (x_test, y_test) = datasets.mnist.load_data()\n",
        "\n",
        "x_train = x_train.reshape(60000, 28, 28, 1)/255\n",
        "x_train = x_train[:1024,:,:,:]\n",
        "x_test = x_test.reshape(10000, 28, 28, 1)/255\n",
        "x_test = x_test[:501,:,:,:]\n",
        "y_train = utils.to_categorical(y_train[:1024], 10)\n",
        "y_test = utils.to_categorical(y_test[:501], 10)"
      ],
      "execution_count": null,
      "outputs": []
    },
    {
      "cell_type": "code",
      "metadata": {
        "id": "0kiza9o3saVr",
        "outputId": "57c3268a-032f-4e8f-9b7c-48bfd278234f",
        "colab": {
          "base_uri": "https://localhost:8080/",
          "height": 85
        }
      },
      "source": [
        "from scipy import ndimage\n",
        "print(x_train.shape)\n",
        "x_train = ndimage.zoom(x_train, [1,8,8,3])\n",
        "print(x_train.shape)\n",
        "\n",
        "print(x_test.shape)\n",
        "x_test = ndimage.zoom(x_test, [1,8,8,3])\n",
        "print(x_test.shape)"
      ],
      "execution_count": null,
      "outputs": [
        {
          "output_type": "stream",
          "text": [
            "(1024, 28, 28, 1)\n",
            "(1024, 224, 224, 3)\n",
            "(501, 28, 28, 1)\n",
            "(501, 224, 224, 3)\n"
          ],
          "name": "stdout"
        }
      ]
    },
    {
      "cell_type": "markdown",
      "metadata": {
        "id": "Eh0LIGxL_tGY"
      },
      "source": [
        "Predicting MNIST dataset using VGG16 pre-trained model, without retraining any layers.\n"
      ]
    },
    {
      "cell_type": "code",
      "metadata": {
        "id": "4qx6mxzzs6uB",
        "outputId": "9b765564-824d-45cc-8d1c-732d1463452b",
        "colab": {
          "base_uri": "https://localhost:8080/",
          "height": 496
        }
      },
      "source": [
        "from tensorflow.keras.applications.vgg16 import VGG16\n",
        "from tensorflow.keras.preprocessing import image\n",
        "from tensorflow.keras.models import Model\n",
        "from tensorflow.keras.layers import Dense, GlobalAveragePooling2D\n",
        "\n",
        "# create the base pre-trained model\n",
        "base_model = VGG16(weights='imagenet', include_top=False)\n",
        "\n",
        "# add a global spatial average pooling layer\n",
        "x = base_model.output\n",
        "x = GlobalAveragePooling2D()(x)\n",
        "x = Dense(1024, activation='relu')(x)\n",
        "predictions = Dense(10, activation='softmax')(x)\n",
        "\n",
        "# this is the model we will train\n",
        "model = Model(inputs=base_model.input, outputs=predictions)\n",
        "\n",
        "for layer in base_model.layers:\n",
        "    layer.trainable = False\n",
        "\n",
        "model.compile(optimizer='rmsprop', loss='categorical_crossentropy', metrics=['accuracy'])\n",
        "\n",
        "# train the model on the new data for a few epochs\n",
        "\n",
        "history = model.fit(x_train, y_train,\n",
        "          batch_size=128,\n",
        "          epochs=12,\n",
        "          verbose=1,\n",
        "          validation_data=(x_test, y_test))\n",
        "score = model.evaluate(x_test, y_test, verbose=0)\n",
        "print('Test loss:', score[0])\n",
        "print('Test accuracy:', score[1])"
      ],
      "execution_count": null,
      "outputs": [
        {
          "output_type": "stream",
          "text": [
            "Epoch 1/12\n",
            "2/8 [======>.......................] - ETA: 1s - loss: 2.6157 - accuracy: 0.0859WARNING:tensorflow:Callbacks method `on_train_batch_end` is slow compared to the batch time (batch time: 0.0440s vs `on_train_batch_end` time: 0.3953s). Check your callbacks.\n",
            "8/8 [==============================] - 8s 1s/step - loss: 2.2700 - accuracy: 0.1758 - val_loss: 1.9681 - val_accuracy: 0.2076\n",
            "Epoch 2/12\n",
            "8/8 [==============================] - 5s 652ms/step - loss: 1.8493 - accuracy: 0.4238 - val_loss: 1.6981 - val_accuracy: 0.4810\n",
            "Epoch 3/12\n",
            "8/8 [==============================] - 5s 660ms/step - loss: 1.5911 - accuracy: 0.5986 - val_loss: 1.5893 - val_accuracy: 0.4990\n",
            "Epoch 4/12\n",
            "8/8 [==============================] - 5s 661ms/step - loss: 1.4323 - accuracy: 0.6289 - val_loss: 1.3409 - val_accuracy: 0.5768\n",
            "Epoch 5/12\n",
            "8/8 [==============================] - 5s 663ms/step - loss: 1.2548 - accuracy: 0.7012 - val_loss: 1.2319 - val_accuracy: 0.6347\n",
            "Epoch 6/12\n",
            "8/8 [==============================] - 5s 665ms/step - loss: 1.1017 - accuracy: 0.7227 - val_loss: 1.1103 - val_accuracy: 0.6587\n",
            "Epoch 7/12\n",
            "8/8 [==============================] - 5s 664ms/step - loss: 0.9935 - accuracy: 0.7764 - val_loss: 1.0229 - val_accuracy: 0.6507\n",
            "Epoch 8/12\n",
            "8/8 [==============================] - 5s 669ms/step - loss: 0.9168 - accuracy: 0.7959 - val_loss: 1.0060 - val_accuracy: 0.7066\n",
            "Epoch 9/12\n",
            "8/8 [==============================] - 5s 662ms/step - loss: 0.8237 - accuracy: 0.8086 - val_loss: 0.8457 - val_accuracy: 0.7705\n",
            "Epoch 10/12\n",
            "8/8 [==============================] - 5s 666ms/step - loss: 0.7637 - accuracy: 0.8203 - val_loss: 0.7958 - val_accuracy: 0.7804\n",
            "Epoch 11/12\n",
            "8/8 [==============================] - 5s 670ms/step - loss: 0.6727 - accuracy: 0.8613 - val_loss: 0.7838 - val_accuracy: 0.7485\n",
            "Epoch 12/12\n",
            "8/8 [==============================] - 5s 669ms/step - loss: 0.6672 - accuracy: 0.8525 - val_loss: 0.7223 - val_accuracy: 0.7944\n",
            "Test loss: 0.7222960591316223\n",
            "Test accuracy: 0.7944111824035645\n"
          ],
          "name": "stdout"
        }
      ]
    },
    {
      "cell_type": "code",
      "metadata": {
        "id": "2wP9G6J7vC1X",
        "outputId": "88d7e7cb-c844-4c04-955a-8293660a14fd",
        "colab": {
          "base_uri": "https://localhost:8080/",
          "height": 279
        }
      },
      "source": [
        "plt.plot(history.history['accuracy'],'--')\n",
        "plt.plot(history.history['val_accuracy'])\n",
        "plt.ylabel('accuracy')\n",
        "plt.xlabel('epoch')\n",
        "plt.legend(['train', 'test'], loc='lower right')\n",
        "plt.show()"
      ],
      "execution_count": null,
      "outputs": [
        {
          "output_type": "display_data",
          "data": {
            "image/png": "[encoded data removed]",
            "text/plain": [
              "<Figure size 432x288 with 1 Axes>"
            ]
          },
          "metadata": {
            "tags": [],
            "needs_background": "light"
          }
        }
      ]
    },
    {
      "cell_type": "markdown",
      "metadata": {
        "id": "LNysQTLO_5U1"
      },
      "source": [
        "Predicting MNIST dataset using VGG16 pre-trained model, retraining last three layers.\n"
      ]
    },
    {
      "cell_type": "code",
      "metadata": {
        "id": "HxEp9Fk2nGvi",
        "outputId": "7032fa41-b128-468c-dadc-61af4d5a710a",
        "colab": {
          "base_uri": "https://localhost:8080/",
          "height": 921
        }
      },
      "source": [
        "for i, layer in enumerate(base_model.layers):\n",
        "   print(i, layer.name)\n",
        "\n",
        "for layer in model.layers[:15]:\n",
        "   layer.trainable = False\n",
        "for layer in model.layers[15:]:\n",
        "   layer.trainable = True\n",
        "\n",
        "from tensorflow.keras.optimizers import SGD\n",
        "model.compile(optimizer=SGD(lr=0.0001, momentum=0.9), loss='categorical_crossentropy',metrics=['accuracy'])\n",
        "\n",
        "history = model.fit(x_train, y_train,\n",
        "          batch_size=128,\n",
        "          epochs=15,\n",
        "          verbose=1,\n",
        "          validation_data=(x_test, y_test))\n",
        "score = model.evaluate(x_test, y_test, verbose=0)\n",
        "print('Test loss:', score[0])\n",
        "print('Test accuracy:', score[1])"
      ],
      "execution_count": null,
      "outputs": [
        {
          "output_type": "stream",
          "text": [
            "0 input_4\n",
            "1 block1_conv1\n",
            "2 block1_conv2\n",
            "3 block1_pool\n",
            "4 block2_conv1\n",
            "5 block2_conv2\n",
            "6 block2_pool\n",
            "7 block3_conv1\n",
            "8 block3_conv2\n",
            "9 block3_conv3\n",
            "10 block3_pool\n",
            "11 block4_conv1\n",
            "12 block4_conv2\n",
            "13 block4_conv3\n",
            "14 block4_pool\n",
            "15 block5_conv1\n",
            "16 block5_conv2\n",
            "17 block5_conv3\n",
            "18 block5_pool\n",
            "Epoch 1/15\n",
            "2/8 [======>.......................] - ETA: 1s - loss: 0.5818 - accuracy: 0.8828WARNING:tensorflow:Callbacks method `on_train_batch_end` is slow compared to the batch time (batch time: 0.0376s vs `on_train_batch_end` time: 0.4916s). Check your callbacks.\n",
            "8/8 [==============================] - 6s 733ms/step - loss: 0.5637 - accuracy: 0.8779 - val_loss: 0.6332 - val_accuracy: 0.8363\n",
            "Epoch 2/15\n",
            "8/8 [==============================] - 6s 749ms/step - loss: 0.4974 - accuracy: 0.8945 - val_loss: 0.5841 - val_accuracy: 0.8303\n",
            "Epoch 3/15\n",
            "8/8 [==============================] - 6s 755ms/step - loss: 0.4425 - accuracy: 0.9160 - val_loss: 0.5481 - val_accuracy: 0.8503\n",
            "Epoch 4/15\n",
            "8/8 [==============================] - 6s 761ms/step - loss: 0.4089 - accuracy: 0.9189 - val_loss: 0.5211 - val_accuracy: 0.8683\n",
            "Epoch 5/15\n",
            "8/8 [==============================] - 6s 762ms/step - loss: 0.3838 - accuracy: 0.9268 - val_loss: 0.4973 - val_accuracy: 0.8643\n",
            "Epoch 6/15\n",
            "8/8 [==============================] - 6s 766ms/step - loss: 0.3614 - accuracy: 0.9326 - val_loss: 0.4738 - val_accuracy: 0.8683\n",
            "Epoch 7/15\n",
            "8/8 [==============================] - 6s 770ms/step - loss: 0.3440 - accuracy: 0.9336 - val_loss: 0.4557 - val_accuracy: 0.8723\n",
            "Epoch 8/15\n",
            "8/8 [==============================] - 6s 716ms/step - loss: 0.3301 - accuracy: 0.9346 - val_loss: 0.4394 - val_accuracy: 0.8782\n",
            "Epoch 9/15\n",
            "8/8 [==============================] - 6s 773ms/step - loss: 0.3165 - accuracy: 0.9375 - val_loss: 0.4264 - val_accuracy: 0.8802\n",
            "Epoch 10/15\n",
            "8/8 [==============================] - 6s 778ms/step - loss: 0.3066 - accuracy: 0.9375 - val_loss: 0.4142 - val_accuracy: 0.8802\n",
            "Epoch 11/15\n",
            "8/8 [==============================] - 6s 778ms/step - loss: 0.2946 - accuracy: 0.9414 - val_loss: 0.4047 - val_accuracy: 0.8842\n",
            "Epoch 12/15\n",
            "8/8 [==============================] - 6s 780ms/step - loss: 0.2868 - accuracy: 0.9434 - val_loss: 0.3926 - val_accuracy: 0.8942\n",
            "Epoch 13/15\n",
            "8/8 [==============================] - 6s 783ms/step - loss: 0.2767 - accuracy: 0.9443 - val_loss: 0.3853 - val_accuracy: 0.8942\n",
            "Epoch 14/15\n",
            "8/8 [==============================] - 6s 778ms/step - loss: 0.2687 - accuracy: 0.9453 - val_loss: 0.3759 - val_accuracy: 0.8942\n",
            "Epoch 15/15\n",
            "8/8 [==============================] - 6s 776ms/step - loss: 0.2621 - accuracy: 0.9463 - val_loss: 0.3668 - val_accuracy: 0.8982\n",
            "Test loss: 0.3668075501918793\n",
            "Test accuracy: 0.8982036113739014\n"
          ],
          "name": "stdout"
        }
      ]
    },
    {
      "cell_type": "markdown",
      "metadata": {
        "id": "qR9AZFgIqBZD"
      },
      "source": [
        "# New Section"
      ]
    },
    {
      "cell_type": "code",
      "metadata": {
        "id": "7SDJz9U9lGHc",
        "outputId": "2f667cf5-8032-4359-d7b7-fa77e1ff1843",
        "colab": {
          "base_uri": "https://localhost:8080/",
          "height": 279
        }
      },
      "source": [
        "plt.plot(history.history['accuracy'],'--')\n",
        "plt.plot(history.history['val_accuracy'])\n",
        "plt.ylabel('accuracy')\n",
        "plt.xlabel('epoch')\n",
        "plt.legend(['train', 'test'], loc='lower right')\n",
        "plt.show()"
      ],
      "execution_count": null,
      "outputs": [
        {
          "output_type": "display_data",
          "data": {
            "image/png": "[encoded data removed]",
            "text/plain": [
              "<Figure size 432x288 with 1 Axes>"
            ]
          },
          "metadata": {
            "tags": [],
            "needs_background": "light"
          }
        }
      ]
    },
    {
      "cell_type": "markdown",
      "metadata": {
        "id": "IAaBIdKIKmCB"
      },
      "source": [
        "Predicting MNIST dataset using VGG16 and retraining last 9 layers"
      ]
    },
    {
      "cell_type": "code",
      "metadata": {
        "id": "9DqR89jTCFk_",
        "outputId": "71b7c342-340c-45b2-cdba-408052a547f0",
        "colab": {
          "base_uri": "https://localhost:8080/",
          "height": 921
        }
      },
      "source": [
        "for i, layer in enumerate(base_model.layers):\n",
        "   print(i, layer.name)\n",
        "\n",
        "for layer in model.layers[:9]:\n",
        "   layer.trainable = False\n",
        "for layer in model.layers[9:]:\n",
        "   layer.trainable = True\n",
        "\n",
        "from tensorflow.keras.optimizers import SGD\n",
        "model.compile(optimizer=SGD(lr=0.0001, momentum=0.9), loss='categorical_crossentropy',metrics=['accuracy'])\n",
        "\n",
        "history = model.fit(x_train, y_train,\n",
        "          batch_size=128,\n",
        "          epochs=15,\n",
        "          verbose=1,\n",
        "          validation_data=(x_test, y_test))\n",
        "score = model.evaluate(x_test, y_test, verbose=0)\n",
        "print('Test loss:', score[0])\n",
        "print('Test accuracy:', score[1])"
      ],
      "execution_count": null,
      "outputs": [
        {
          "output_type": "stream",
          "text": [
            "0 input_4\n",
            "1 block1_conv1\n",
            "2 block1_conv2\n",
            "3 block1_pool\n",
            "4 block2_conv1\n",
            "5 block2_conv2\n",
            "6 block2_pool\n",
            "7 block3_conv1\n",
            "8 block3_conv2\n",
            "9 block3_conv3\n",
            "10 block3_pool\n",
            "11 block4_conv1\n",
            "12 block4_conv2\n",
            "13 block4_conv3\n",
            "14 block4_pool\n",
            "15 block5_conv1\n",
            "16 block5_conv2\n",
            "17 block5_conv3\n",
            "18 block5_pool\n",
            "Epoch 1/15\n",
            "2/8 [======>.......................] - ETA: 2s - loss: 0.2653 - accuracy: 0.9414WARNING:tensorflow:Callbacks method `on_train_batch_end` is slow compared to the batch time (batch time: 0.0372s vs `on_train_batch_end` time: 0.7504s). Check your callbacks.\n",
            "8/8 [==============================] - 8s 965ms/step - loss: 0.2545 - accuracy: 0.9463 - val_loss: 0.3551 - val_accuracy: 0.9062\n",
            "Epoch 2/15\n",
            "8/8 [==============================] - 8s 1s/step - loss: 0.2421 - accuracy: 0.9473 - val_loss: 0.3404 - val_accuracy: 0.9062\n",
            "Epoch 3/15\n",
            "8/8 [==============================] - 8s 1s/step - loss: 0.2270 - accuracy: 0.9580 - val_loss: 0.3234 - val_accuracy: 0.9082\n",
            "Epoch 4/15\n",
            "8/8 [==============================] - 8s 1s/step - loss: 0.2114 - accuracy: 0.9502 - val_loss: 0.3050 - val_accuracy: 0.9142\n",
            "Epoch 5/15\n",
            "8/8 [==============================] - 8s 1s/step - loss: 0.1966 - accuracy: 0.9639 - val_loss: 0.2865 - val_accuracy: 0.9242\n",
            "Epoch 6/15\n",
            "8/8 [==============================] - 8s 1s/step - loss: 0.1855 - accuracy: 0.9639 - val_loss: 0.2805 - val_accuracy: 0.9202\n",
            "Epoch 7/15\n",
            "8/8 [==============================] - 8s 1s/step - loss: 0.1728 - accuracy: 0.9629 - val_loss: 0.2597 - val_accuracy: 0.9321\n",
            "Epoch 8/15\n",
            "8/8 [==============================] - 8s 1s/step - loss: 0.1625 - accuracy: 0.9648 - val_loss: 0.2603 - val_accuracy: 0.9261\n",
            "Epoch 9/15\n",
            "8/8 [==============================] - 8s 1s/step - loss: 0.1525 - accuracy: 0.9688 - val_loss: 0.2428 - val_accuracy: 0.9361\n",
            "Epoch 10/15\n",
            "8/8 [==============================] - 8s 1s/step - loss: 0.1454 - accuracy: 0.9717 - val_loss: 0.2346 - val_accuracy: 0.9321\n",
            "Epoch 11/15\n",
            "8/8 [==============================] - 8s 1s/step - loss: 0.1372 - accuracy: 0.9746 - val_loss: 0.2307 - val_accuracy: 0.9361\n",
            "Epoch 12/15\n",
            "8/8 [==============================] - 9s 1s/step - loss: 0.1314 - accuracy: 0.9736 - val_loss: 0.2208 - val_accuracy: 0.9321\n",
            "Epoch 13/15\n",
            "8/8 [==============================] - 9s 1s/step - loss: 0.1227 - accuracy: 0.9795 - val_loss: 0.2155 - val_accuracy: 0.9361\n",
            "Epoch 14/15\n",
            "8/8 [==============================] - 9s 1s/step - loss: 0.1158 - accuracy: 0.9805 - val_loss: 0.2068 - val_accuracy: 0.9361\n",
            "Epoch 15/15\n",
            "8/8 [==============================] - 9s 1s/step - loss: 0.1110 - accuracy: 0.9814 - val_loss: 0.2036 - val_accuracy: 0.9341\n",
            "Test loss: 0.20361503958702087\n",
            "Test accuracy: 0.9341317415237427\n"
          ],
          "name": "stdout"
        }
      ]
    },
    {
      "cell_type": "code",
      "metadata": {
        "id": "maGg-Yi_-K-i",
        "outputId": "7c2c4a5a-8b74-4a14-cb4f-da4c517ee964",
        "colab": {
          "base_uri": "https://localhost:8080/"
        }
      },
      "source": [
        "plt.plot(history.history['accuracy'],'--')\n",
        "plt.plot(history.history['val_accuracy'])\n",
        "plt.ylabel('accuracy')\n",
        "plt.xlabel('epoch')\n",
        "plt.legend(['train', 'test'], loc='lower right')\n",
        "plt.show()"
      ],
      "execution_count": null,
      "outputs": [
        {
          "output_type": "display_data",
          "data": {
            "image/png": "[encoded data removed]",
            "text/plain": [
              "<Figure size 432x288 with 1 Axes>"
            ]
          },
          "metadata": {
            "tags": [],
            "needs_background": "light"
          }
        }
      ]
    }
  ]
}